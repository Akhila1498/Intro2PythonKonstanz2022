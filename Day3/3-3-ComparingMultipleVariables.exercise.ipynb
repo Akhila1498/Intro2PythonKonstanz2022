{
  "cells": [
    {
      "cell_type": "code",
      "execution_count": 1,
      "id": "7438b378",
      "metadata": {
        "collapsed": true,
        "jupyter": {
          "outputs_hidden": true
        },
        "tags": []
      },
      "outputs": [
        {
          "name": "stdout",
          "output_type": "stream",
          "text": [
            "Requirement already satisfied: numpy in /home/nickdg/miniconda3/envs/py10/lib/python3.10/site-packages (1.23.3)\n",
            "Requirement already satisfied: pandas in /home/nickdg/miniconda3/envs/py10/lib/python3.10/site-packages (1.5.0)\n",
            "Requirement already satisfied: pingouin in /home/nickdg/miniconda3/envs/py10/lib/python3.10/site-packages (0.5.2)\n",
            "Requirement already satisfied: scipy in /home/nickdg/miniconda3/envs/py10/lib/python3.10/site-packages (1.9.1)\n",
            "Requirement already satisfied: statsmodels in /home/nickdg/miniconda3/envs/py10/lib/python3.10/site-packages (0.13.2)\n",
            "Requirement already satisfied: pytz>=2020.1 in /home/nickdg/miniconda3/envs/py10/lib/python3.10/site-packages (from pandas) (2022.4)\n",
            "Requirement already satisfied: python-dateutil>=2.8.1 in /home/nickdg/miniconda3/envs/py10/lib/python3.10/site-packages (from pandas) (2.8.2)\n",
            "Requirement already satisfied: scikit-learn<1.1.0 in /home/nickdg/miniconda3/envs/py10/lib/python3.10/site-packages (from pingouin) (1.0.2)\n",
            "Requirement already satisfied: matplotlib>=3.0.2 in /home/nickdg/miniconda3/envs/py10/lib/python3.10/site-packages (from pingouin) (3.6.0)\n",
            "Requirement already satisfied: outdated in /home/nickdg/miniconda3/envs/py10/lib/python3.10/site-packages (from pingouin) (0.2.1)\n",
            "Requirement already satisfied: tabulate in /home/nickdg/miniconda3/envs/py10/lib/python3.10/site-packages (from pingouin) (0.8.10)\n",
            "Requirement already satisfied: pandas-flavor>=0.2.0 in /home/nickdg/miniconda3/envs/py10/lib/python3.10/site-packages (from pingouin) (0.3.0)\n",
            "Requirement already satisfied: seaborn>=0.11 in /home/nickdg/miniconda3/envs/py10/lib/python3.10/site-packages (from pingouin) (0.12.0)\n",
            "Requirement already satisfied: packaging>=21.3 in /home/nickdg/miniconda3/envs/py10/lib/python3.10/site-packages (from statsmodels) (21.3)\n",
            "Requirement already satisfied: patsy>=0.5.2 in /home/nickdg/miniconda3/envs/py10/lib/python3.10/site-packages (from statsmodels) (0.5.2)\n",
            "Requirement already satisfied: cycler>=0.10 in /home/nickdg/miniconda3/envs/py10/lib/python3.10/site-packages (from matplotlib>=3.0.2->pingouin) (0.11.0)\n",
            "Requirement already satisfied: contourpy>=1.0.1 in /home/nickdg/miniconda3/envs/py10/lib/python3.10/site-packages (from matplotlib>=3.0.2->pingouin) (1.0.5)\n",
            "Requirement already satisfied: pillow>=6.2.0 in /home/nickdg/miniconda3/envs/py10/lib/python3.10/site-packages (from matplotlib>=3.0.2->pingouin) (9.2.0)\n",
            "Requirement already satisfied: kiwisolver>=1.0.1 in /home/nickdg/miniconda3/envs/py10/lib/python3.10/site-packages (from matplotlib>=3.0.2->pingouin) (1.4.4)\n",
            "Requirement already satisfied: fonttools>=4.22.0 in /home/nickdg/miniconda3/envs/py10/lib/python3.10/site-packages (from matplotlib>=3.0.2->pingouin) (4.37.4)\n",
            "Requirement already satisfied: pyparsing>=2.2.1 in /home/nickdg/miniconda3/envs/py10/lib/python3.10/site-packages (from matplotlib>=3.0.2->pingouin) (3.0.9)\n",
            "Requirement already satisfied: lazy-loader==0.1rc2 in /home/nickdg/miniconda3/envs/py10/lib/python3.10/site-packages (from pandas-flavor>=0.2.0->pingouin) (0.1rc2)\n",
            "Requirement already satisfied: xarray in /home/nickdg/miniconda3/envs/py10/lib/python3.10/site-packages (from pandas-flavor>=0.2.0->pingouin) (2022.9.0)\n",
            "Requirement already satisfied: six in /home/nickdg/miniconda3/envs/py10/lib/python3.10/site-packages (from patsy>=0.5.2->statsmodels) (1.16.0)\n",
            "Requirement already satisfied: joblib>=0.11 in /home/nickdg/miniconda3/envs/py10/lib/python3.10/site-packages (from scikit-learn<1.1.0->pingouin) (1.2.0)\n",
            "Requirement already satisfied: threadpoolctl>=2.0.0 in /home/nickdg/miniconda3/envs/py10/lib/python3.10/site-packages (from scikit-learn<1.1.0->pingouin) (3.1.0)\n",
            "Requirement already satisfied: requests in /home/nickdg/miniconda3/envs/py10/lib/python3.10/site-packages (from outdated->pingouin) (2.28.1)\n",
            "Requirement already satisfied: littleutils in /home/nickdg/miniconda3/envs/py10/lib/python3.10/site-packages (from outdated->pingouin) (0.2.2)\n",
            "Requirement already satisfied: certifi>=2017.4.17 in /home/nickdg/miniconda3/envs/py10/lib/python3.10/site-packages (from requests->outdated->pingouin) (2022.9.14)\n",
            "Requirement already satisfied: charset-normalizer<3,>=2 in /home/nickdg/miniconda3/envs/py10/lib/python3.10/site-packages (from requests->outdated->pingouin) (2.1.1)\n",
            "Requirement already satisfied: idna<4,>=2.5 in /home/nickdg/miniconda3/envs/py10/lib/python3.10/site-packages (from requests->outdated->pingouin) (3.4)\n",
            "Requirement already satisfied: urllib3<1.27,>=1.21.1 in /home/nickdg/miniconda3/envs/py10/lib/python3.10/site-packages (from requests->outdated->pingouin) (1.26.12)\n"
          ]
        }
      ],
      "source": [
        "%pip install numpy pandas pingouin scipy statsmodels;"
      ]
    },
    {
      "cell_type": "code",
      "execution_count": 2,
      "id": "050439d6",
      "metadata": {
        "cell_id": "00007-c41041df-aa03-4b5f-808e-68b79b41952b",
        "deepnote_cell_type": "code",
        "deepnote_to_be_reexecuted": false,
        "execution_millis": 4,
        "execution_start": 1636618509664,
        "source_hash": "fb7cc69d",
        "tags": []
      },
      "outputs": [],
      "source": [
        "import numpy as np\n",
        "import matplotlib.pyplot as plt\n",
        "from scipy import stats"
      ]
    },
    {
      "cell_type": "markdown",
      "id": "8769dd0f",
      "metadata": {
        "cell_id": "00007-cd4f75ec-03f0-4143-a914-e14ba3feff58",
        "deepnote_cell_type": "markdown",
        "tags": []
      },
      "source": [
        "**Exercises** let's do some analysis on some fake data to get a feel for these two statistics tools."
      ]
    },
    {
      "cell_type": "markdown",
      "id": "838e762d",
      "metadata": {
        "cell_id": "00005-d9203f16-7bbf-45ba-88e1-ad09099e7f62",
        "deepnote_cell_type": "markdown",
        "deepnote_to_be_reexecuted": false,
        "execution_millis": 42,
        "execution_start": 1636618898586,
        "source_hash": "8ddf4792",
        "tags": []
      },
      "source": [
        "Generate the Data: Run the code below to create the dataset `data`."
      ]
    },
    {
      "cell_type": "code",
      "execution_count": 5,
      "id": "94ff3c3a",
      "metadata": {
        "cell_id": "00005-3bfe7d22-ac1b-4281-8239-9840b84be665",
        "deepnote_cell_type": "code",
        "deepnote_to_be_reexecuted": false,
        "execution_millis": 157,
        "execution_start": 1636618872868,
        "source_hash": "30d6b9bd",
        "tags": []
      },
      "outputs": [
        {
          "data": {
            "text/plain": [
              "array([[ 0.49671415,  1.66564877,  1.43846658,  0.20087931],\n",
              "       [-0.1382643 , -0.0257763 ,  0.87136828, -0.3753961 ],\n",
              "       [ 0.64768854,  0.2675282 ,  0.58435172,  0.22642154],\n",
              "       [ 1.52302986, -1.22474819,  0.3988963 ,  1.08378853],\n",
              "       [-0.23415337, -0.34438272, -0.77852199, -0.27164821],\n",
              "       [-0.23413696,  0.31092259, -0.01984421, -0.16288895],\n",
              "       [ 1.57921282, -0.95099358,  0.23936123,  1.36481079],\n",
              "       [ 0.76743473,  0.57569802,  1.75712223,  0.76814131],\n",
              "       [-0.46947439, -0.40063869,  1.04361829, -0.59714718],\n",
              "       [ 0.54256004, -0.09169375, -1.06304016,  0.21353609],\n",
              "       [-0.46341769, -0.40170661,  1.02408397, -0.59113857],\n",
              "       [-0.46572975,  2.05227818,  0.31491772, -0.35812244],\n",
              "       [ 0.24196227,  0.18650278,  0.023078  ,  0.03479706],\n",
              "       [-1.91328024, -0.85771093,  1.31167629, -1.80035151],\n",
              "       [-1.72491783,  1.02254491,  1.73099952, -2.44886685],\n",
              "       [-0.56228753, -1.02084365,  1.63128012, -0.59790703],\n",
              "       [-1.01283112,  0.4088636 , -0.13921752, -1.19542171],\n",
              "       [ 0.31424733, -1.75967012,  0.39078762,  0.05444586],\n",
              "       [-0.90802408, -1.12818605,  1.03126343, -1.08967192],\n",
              "       [-1.4123037 ,  0.39686124,  1.67554513, -2.00981748]])"
            ]
          },
          "execution_count": 5,
          "metadata": {},
          "output_type": "execute_result"
        }
      ],
      "source": [
        "rnd = np.random.RandomState(seed=42)  # Makes sure the pseudorandom number generators reproduce the same data for us all.\n",
        "\n",
        "variables = ['a', 'b', 'c', 'd']\n",
        "data_a = rnd.normal(0, 1, size=20)\n",
        "data_b = rnd.normal(0.2, 1, size=20)\n",
        "data_c = rnd.normal(0.7, 1, size=20)\n",
        "data_d = (data_a - 0.2) + rnd.normal(0, 0.2, size=20)\n",
        "\n",
        "data = np.array([data_a, data_b, data_c, data_d]).T\n",
        "data"
      ]
    },
    {
      "cell_type": "markdown",
      "id": "0f09507d",
      "metadata": {},
      "source": [
        "## Visualize the Data\n",
        "\n",
        "What do these four variables look like, when compared against each other?  Let's take a look using three types of plots and matplotlib:\n",
        "\n",
        "| Plot type | Function | Example Code |\n",
        "| :--  | :-- | :-- |\n",
        "| **Box Plot** | `plt.boxplot()` | `plt.boxplot([x, y, z])` |\n",
        "| **Violin Plot** | `plt.violin()` | `plt.violin([x, y, z])` |\n",
        "| **Strip Plot** | `plt.scatter()` | `plt.scatter(x=[1]*len(x) + np.random.uniform(-.3, .3, len(x)), y=x) ` |\n"
      ]
    },
    {
      "cell_type": "markdown",
      "id": "e661e700",
      "metadata": {},
      "source": [
        "**Exercises**"
      ]
    },
    {
      "cell_type": "markdown",
      "id": "5da19d20",
      "metadata": {},
      "source": [
        "Make a Violin Plot of the four columns of `data`"
      ]
    },
    {
      "cell_type": "code",
      "execution_count": null,
      "id": "f07e98d0",
      "metadata": {
        "tags": [
          "exercise"
        ]
      },
      "outputs": [],
      "source": []
    },
    {
      "cell_type": "markdown",
      "id": "0dc33b31",
      "metadata": {},
      "source": [
        "Make a Box Plot of the four columns of `data`:"
      ]
    },
    {
      "cell_type": "code",
      "execution_count": null,
      "id": "df9dbb10",
      "metadata": {
        "tags": [
          "exercise"
        ]
      },
      "outputs": [],
      "source": []
    },
    {
      "cell_type": "markdown",
      "id": "b259782a",
      "metadata": {},
      "source": [
        "Make a Strip plot of the four columns of `data`: (Tip: Matplotlib has no strip plot function. Adapt the long code from the table above)"
      ]
    },
    {
      "cell_type": "code",
      "execution_count": 49,
      "id": "d49d684e-4607-41ff-862e-3b85479d88f3",
      "metadata": {
        "tags": [
          "exercise"
        ]
      },
      "outputs": [],
      "source": []
    },
    {
      "cell_type": "markdown",
      "id": "00a82745-3f7b-47a6-aa11-2dca7fcbddbf",
      "metadata": {},
      "source": [
        "**Discussion**: Which of the three plots above do you find most interesting?  What information do you get from each of them?"
      ]
    },
    {
      "cell_type": "markdown",
      "id": "f011e52f",
      "metadata": {
        "cell_id": "00006-7ecfd47a-9742-49cd-ab32-67732ccc818b",
        "deepnote_cell_type": "markdown",
        "tags": []
      },
      "source": [
        "# Doing T-Tests with the Scipy.Stats\n",
        "\n",
        "[**Scipy.Stats**](https://docs.scipy.org/doc/scipy/reference/stats.html) has all the stats functions you know and love from statistics class.  Like all the functions in the [scipy](https://docs.scipy.org/doc/scipy/getting_started.html) package, it is fully-compatible with Numpy.\n",
        "\n",
        "\n",
        "T-tests compare the means of two samples of data generated from a normally-distributed population and compute the probability that they have the same mean. When the p-value is very low, it tells us that the two data samples must have come from different populations.  Both packages have functions for t-tests! \n",
        "\n",
        "\n",
        "| Test, | `scipy.stats` Function, | \n",
        "| :---: | :---: |\n",
        "| One-Sampled T-Test | [**stats.ttest_1samp(x, 0)**](https://docs.scipy.org/doc/scipy/reference/generated/scipy.stats.ttest_1samp.html#scipy.stats.ttest_1samp) | \n",
        "| Independent T-Test | [**stats.ttest_ind(x, y)**](https://docs.scipy.org/doc/scipy/reference/generated/scipy.stats.ttest_ind.html#scipy.stats.ttest_ind)\n",
        "| Paired T-test | [**stats.ttest_rel(x, y)**](https://docs.scipy.org/doc/scipy/reference/generated/scipy.stats.ttest_rel.html#scipy.stats.ttest_rel)\n"
      ]
    },
    {
      "cell_type": "markdown",
      "id": "1abc28b7",
      "metadata": {},
      "source": [
        "**Exercises**"
      ]
    },
    {
      "cell_type": "markdown",
      "id": "2818f8db",
      "metadata": {},
      "source": [
        "**A vs 0, One-Sampled T-Test**: Is the mean of the normally-distributed population that the the dataset A is generated from unlikely to be zero?"
      ]
    },
    {
      "cell_type": "markdown",
      "id": "32ba344d",
      "metadata": {},
      "source": [
        "*Example*:"
      ]
    },
    {
      "cell_type": "code",
      "execution_count": 50,
      "id": "38d8a523",
      "metadata": {},
      "outputs": [
        {
          "data": {
            "text/plain": [
              "Ttest_1sampResult(statistic=-0.797966433655592, pvalue=0.43475058842710046)"
            ]
          },
          "execution_count": 50,
          "metadata": {},
          "output_type": "execute_result"
        }
      ],
      "source": [
        "stats.ttest_1samp(data[:, 0], 0)"
      ]
    },
    {
      "cell_type": "markdown",
      "id": "1834ea70",
      "metadata": {},
      "source": [
        "**B vs 1, One-Sampled T-Test**: Is the mean of the normally-distributed population that the the dataset B is generated from unlikely to be one?"
      ]
    },
    {
      "cell_type": "code",
      "execution_count": 51,
      "id": "dba8de00",
      "metadata": {
        "tags": [
          "exercise"
        ]
      },
      "outputs": [],
      "source": []
    },
    {
      "cell_type": "markdown",
      "id": "67930529",
      "metadata": {},
      "source": [
        "**A vs B, Independent Samples T-Test**: Is the mean of the normally-distributed population that the the dataset `A` is generated from unlikely to be the same as the mean of the normally-distributed population that the the dataset `B` is generated from?"
      ]
    },
    {
      "cell_type": "code",
      "execution_count": 52,
      "id": "6eab913e",
      "metadata": {
        "cell_id": "00010-a8f4e43c-d3f9-4e70-abb6-f549c9c520f1",
        "deepnote_cell_type": "code",
        "tags": [
          "exercise"
        ]
      },
      "outputs": [],
      "source": []
    },
    {
      "cell_type": "markdown",
      "id": "21e7c886",
      "metadata": {},
      "source": [
        "**A vs C, Independent Samples T-Test**: Is the mean of the normally-distributed population that the the dataset `A` is generated from unlikely to be the same as the mean of the normally-distributed population that the the dataset `C` is generated from?"
      ]
    },
    {
      "cell_type": "code",
      "execution_count": 53,
      "id": "facc6a4e",
      "metadata": {
        "cell_id": "00012-016e5e09-0b1b-4160-8a49-be6fe6944c0e",
        "deepnote_cell_type": "code",
        "tags": [
          "exercise"
        ]
      },
      "outputs": [],
      "source": []
    },
    {
      "cell_type": "markdown",
      "id": "c7f48a4c",
      "metadata": {
        "cell_id": "00014-1acad45d-9edc-4327-9d4a-a75100f221a6",
        "deepnote_cell_type": "markdown",
        "tags": []
      },
      "source": [
        "**A vs C, Paired Samples T-Test (a.k.a Relative Samples T-Test)**: Is the mean of the differences between each pair of samples in generated from the two normally-distributed populations `A` and `C`  unlikely to be 0?"
      ]
    },
    {
      "cell_type": "code",
      "execution_count": 54,
      "id": "e4d32f58",
      "metadata": {
        "cell_id": "00016-6a05d799-a83b-41f3-a512-49483da423bf",
        "deepnote_cell_type": "code",
        "tags": [
          "exercise"
        ]
      },
      "outputs": [],
      "source": []
    },
    {
      "cell_type": "markdown",
      "id": "f4d2e3ee",
      "metadata": {
        "cell_id": "00017-72ede8ff-a028-4ad9-af67-d9ee5dd2ec58",
        "deepnote_cell_type": "markdown",
        "tags": []
      },
      "source": [
        "**A vs D, Paired Samples T-Test**: Is the mean of the differences between each pair of samples in generated from the two normally-distributed populations `A` and `D`  unlikely to be 0?"
      ]
    },
    {
      "cell_type": "code",
      "execution_count": 55,
      "id": "5ac05915",
      "metadata": {
        "cell_id": "00018-2ab8bfa9-071d-40e5-bc18-c18a90223066",
        "deepnote_cell_type": "code",
        "tags": [
          "exercise"
        ]
      },
      "outputs": [],
      "source": []
    }
  ],
  "metadata": {
    "colab": {
      "name": "20_Stats_With_Pingouin.ipynb",
      "provenance": []
    },
    "deepnote": {},
    "deepnote_execution_queue": [],
    "deepnote_notebook_id": "2622f8ad-4a8a-45f5-9f7f-6e1d67bd04f0",
    "kernelspec": {
      "display_name": "Python 3 (ipykernel)",
      "language": "python",
      "name": "python3"
    },
    "language_info": {
      "codemirror_mode": {
        "name": "ipython",
        "version": 3
      },
      "file_extension": ".py",
      "mimetype": "text/x-python",
      "name": "python",
      "nbconvert_exporter": "python",
      "pygments_lexer": "ipython3",
      "version": "3.10.4"
    },
    "vscode": {
      "interpreter": {
        "hash": "d6852d01271bf8033dbdb7ec364b6f6e89fd52a18c6bf5b4c73e48c86329a8dd"
      }
    }
  },
  "nbformat": 4,
  "nbformat_minor": 5
}